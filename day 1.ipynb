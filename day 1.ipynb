{
 "cells": [
  {
   "cell_type": "markdown",
   "id": "430c1a1d",
   "metadata": {},
   "source": [
    "\n",
    "1.to run the cell we can press -> shift+enter\n",
    "2.to add the new cell->esc+a+enter(above)\n",
    "                     ->esc+b+enter(below)\n",
    "3. to change the cell into code mode to markdown mode->esc+m+enter\n",
    "4.to change the cell into markdown mode to code mode->esc+y+enter\n",
    "5.to delete the cell->esc+d+d\n"
   ]
  },
  {
   "cell_type": "markdown",
   "id": "820fd15b",
   "metadata": {},
   "source": [
    "# ajay\n",
    "## venkat\n",
    "### anirudh\n",
    "#### madhu\n",
    "##### ravi\n",
    "###### nanda"
   ]
  },
  {
   "cell_type": "markdown",
   "id": "734b09f7",
   "metadata": {},
   "source": [
    "## text styles\n",
    "**bold**<br>\n",
    "*italic*<br>\n",
    "***bold and italic***\n",
    "\n",
    "\n"
   ]
  },
  {
   "cell_type": "markdown",
   "id": "afaba922",
   "metadata": {},
   "source": [
    "### order list:\n",
    "\n",
    "1. anantapur:\n",
    "    a. alts\n",
    "    b. srit\n",
    "    c. pvkk\n",
    "    \n",
    "\n"
   ]
  },
  {
   "cell_type": "markdown",
   "id": "5aaf6332",
   "metadata": {},
   "source": [
    "### bullet list:\n",
    "\n",
    "- alts college:\n",
    "    * cse\n",
    "    * ece\n",
    "    * eee\n",
    "        * 1st year\n",
    "        * 2nd year\n",
    "        * 3rd year\n",
    "    "
   ]
  },
  {
   "cell_type": "markdown",
   "id": "9980a554",
   "metadata": {},
   "source": [
    "### image display:\n",
    "![elon](elon.webp)\n"
   ]
  },
  {
   "cell_type": "markdown",
   "id": "c303499c",
   "metadata": {},
   "source": [
    "### hyperlinks:\n",
    "[click here to go google](https://www.google.com/)\n",
    "[click here to go youtube](https://www.youtube.com/)"
   ]
  },
  {
   "cell_type": "markdown",
   "id": "1b122794",
   "metadata": {},
   "source": [
    "### table printing:\n",
    "| name |roll no|branch|\n",
    "|----|-----|---------|\n",
    "|ajay|4c2|ece|"
   ]
  },
  {
   "cell_type": "markdown",
   "id": "c2346aaa",
   "metadata": {},
   "source": [
    "###"
   ]
  }
 ],
 "metadata": {
  "kernelspec": {
   "display_name": "Python 3 (ipykernel)",
   "language": "python",
   "name": "python3"
  },
  "language_info": {
   "codemirror_mode": {
    "name": "ipython",
    "version": 3
   },
   "file_extension": ".py",
   "mimetype": "text/x-python",
   "name": "python",
   "nbconvert_exporter": "python",
   "pygments_lexer": "ipython3",
   "version": "3.9.13"
  }
 },
 "nbformat": 4,
 "nbformat_minor": 5
}
