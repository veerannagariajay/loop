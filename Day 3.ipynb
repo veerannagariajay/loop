{
 "cells": [
  {
   "cell_type": "code",
   "execution_count": null,
   "id": "67237f0e",
   "metadata": {},
   "outputs": [],
   "source": [
    "a=20\n",
    "b=10\n",
    "c=a\n",
    "a=b\n",
    "b=c\n",
    "print(a,b)\n",
    "print(a+b)"
   ]
  },
  {
   "cell_type": "code",
   "execution_count": null,
   "id": "5d9b5cdf",
   "metadata": {},
   "outputs": [],
   "source": [
    "# bitwise operators \n",
    "# and & # or | # x or ^ # left shift << # right shift >> # negation ~\n",
    "a=10\n",
    "b=9\n",
    "print(a & b)\n",
    "print(a | b)\n",
    "print(a^b)\n",
    "print(a<<2)\n",
    "print(a>>2)\n",
    "print(~a)"
   ]
  },
  {
   "cell_type": "code",
   "execution_count": null,
   "id": "935b9684",
   "metadata": {},
   "outputs": [],
   "source": [
    "# assignment operations \n",
    "# (+=,-=,/=,*=,//=,**=)\n",
    "a=23\n",
    "b=40\n",
    "\n",
    "b-=a\n",
    "print(b)\n"
   ]
  },
  {
   "cell_type": "code",
   "execution_count": null,
   "id": "370bfdc7",
   "metadata": {},
   "outputs": [],
   "source": [
    "# memebership  opertors (in,notin.)\n",
    "L1=[10,20,30,50,'ajay', 'ani']\n",
    "print(10 in L1)\n",
    "print(50  in L1)\n",
    "print(100 in L1)\n",
    "print(20 in L1)\n",
    "print(2000 in L1)\n",
    "print(2945 in L1)\n",
    "print(2576 in L1)\n",
    "print('ajay' in L1) \n",
    "print('ani'in L1)"
   ]
  },
  {
   "cell_type": "code",
   "execution_count": null,
   "id": "2b505206",
   "metadata": {},
   "outputs": [],
   "source": [
    "# identity operators( is,is not)(equal,not equal)\n",
    "s1='ajay'\n",
    "s2='ajay'\n",
    "print(s1 is s2)\n",
    "print(s1 is not s2)\n",
    "print(s1 is not s2)\n",
    "\n",
    "\n"
   ]
  },
  {
   "cell_type": "markdown",
   "id": "b58f8c06",
   "metadata": {},
   "source": [
    " ### control statements\n",
    "     to control the flow of execution of a program \n",
    "     3 types\n",
    "     1. conditional statements\n",
    "     a.if\n",
    "     b.if else\n",
    "     c. elseif lader\n",
    "     d.nested if else\n",
    "     2. looping statements\n",
    "     a.for loop\n",
    "     b.while loop\n",
    "     3.jumping statements\n",
    "     a.break\n",
    "     b.continue\n",
    "     c.pass\n",
    "     "
   ]
  },
  {
   "cell_type": "markdown",
   "id": "45a25caf",
   "metadata": {},
   "source": [
    "### 1. conditional statements\n",
    " to check the condition \n",
    " - simple if \n",
    " -  syntax\n",
    "     if(condition):(logical and comparision operations) \n",
    "          statements\n",
    "     "
   ]
  },
  {
   "cell_type": "code",
   "execution_count": null,
   "id": "5f98e245",
   "metadata": {},
   "outputs": [],
   "source": [
    "# simple if example \n",
    "#1. to check the given number is positive number or not ?\n",
    "n= int(input('enter n value '))\n",
    "if (n>0):\n",
    "    \n",
    "    \n",
    "print (n, 'is a positive number')"
   ]
  },
  {
   "cell_type": "markdown",
   "id": "42b1e57a",
   "metadata": {},
   "source": [
    "if else:\n",
    "syntax:\n",
    "    if(condition):condition alaways true\n",
    "    statements\n",
    "    else: condition always false\n",
    "    statements"
   ]
  },
  {
   "cell_type": "code",
   "execution_count": null,
   "id": "b4640246",
   "metadata": {},
   "outputs": [],
   "source": [
    "# if else example\n",
    "# 1. to check whether given number even or odd?\n",
    "n1=20\n",
    "if(n1%2==0):\n",
    "   print(n1 ,'is a even number ')\n",
    "else:\n",
    "    print(n1 ,'is a odd number')\n",
    "\n"
   ]
  },
  {
   "cell_type": "code",
   "execution_count": null,
   "id": "f5f33df6",
   "metadata": {},
   "outputs": [],
   "source": [
    "# 2. to find the biggest two numbers?\n",
    "a=34\n",
    "b=12\n",
    "if (a>b):\n",
    "    print ('a', 'is biggest value')\n"
   ]
  },
  {
   "cell_type": "code",
   "execution_count": null,
   "id": "2048be35",
   "metadata": {},
   "outputs": [],
   "source": [
    "# 3. to find the biggest of three numbers\n",
    "a=10\n",
    "b=20\n",
    "c=30\n",
    "if(a>b):\n",
    "    print(a,'is big number' )\n",
    "elif(b>c):\n",
    "    print(b,'is big number')\n",
    "else:\n",
    "    print(c,'is big number')\n",
    "        \n",
    "        "
   ]
  },
  {
   "cell_type": "markdown",
   "id": "7bbda3d9",
   "metadata": {},
   "source": [
    "elif\n",
    "syntax:\n",
    "    if(conditon):\n",
    "    statements\n",
    "    elif(condition):\n",
    "    else:\n",
    "    statements\n",
    "    "
   ]
  },
  {
   "cell_type": "code",
   "execution_count": null,
   "id": "6dbf75a4",
   "metadata": {},
   "outputs": [],
   "source": [
    "a=10\n",
    "if (a==10):\n",
    "    print('first if block')\n"
   ]
  },
  {
   "cell_type": "markdown",
   "id": "10ec65ed",
   "metadata": {},
   "source": [
    "- elif ladder :\n",
    "- syntax:\n",
    "      if(condition):\n",
    "       statements\n",
    "       elif(condition):\n",
    "       statements\n",
    "       -----\n",
    "       -----\n",
    "       else:\n",
    "          statements\n",
    "          \n"
   ]
  },
  {
   "cell_type": "code",
   "execution_count": null,
   "id": "54f18f62",
   "metadata": {},
   "outputs": [],
   "source": [
    "# to print the weekdays using elif ladder.\n",
    "# sample input : day :1->\n",
    "# sample output: monday\n",
    "day = int(input('enter day number'))\n",
    "if (day ==1):\n",
    "    print('monday')\n",
    "elif (day==2):\n",
    "    print('tuesday')\n",
    "elif(day==7):\n",
    "    print('sunday')\n"
   ]
  },
  {
   "cell_type": "markdown",
   "id": "bdcfe62a",
   "metadata": {},
   "source": [
    "nested if else :\n",
    "          if with in a if\n",
    " syntax:\n",
    "      if (base condition):\n",
    "        if (condition):\n",
    "         statements\n",
    "         else:\n",
    "         statements\n",
    "         else :\n",
    "         statements\n",
    "    "
   ]
  },
  {
   "cell_type": "code",
   "execution_count": null,
   "id": "4f47e985",
   "metadata": {},
   "outputs": [],
   "source": [
    "username='ajay@gmail.com'\n",
    "password=12345\n",
    "u1=input(\" username\")\n",
    "if( username==u1):\n",
    "    p1=input(\" password\")\n",
    "    if password==p1:\n",
    "        print('welcom to my site..')\n",
    "        \n"
   ]
  },
  {
   "cell_type": "code",
   "execution_count": 4,
   "id": "24b9c40d",
   "metadata": {},
   "outputs": [
    {
     "name": "stdout",
     "output_type": "stream",
     "text": [
      "1 nanda kalyani  2 nanda kalyani  3 nanda kalyani  4 nanda kalyani  5 nanda kalyani  6 nanda kalyani  7 nanda kalyani  8 nanda kalyani  9 nanda kalyani  "
     ]
    }
   ],
   "source": [
    "for i in range(1,10):\n",
    "    print(i,end=\" nanda kalyani  \")"
   ]
  },
  {
   "cell_type": "markdown",
   "id": "d8804dd2",
   "metadata": {},
   "source": [
    "### tasks\n",
    "1. to print month name\n",
    "2. to read the input to check whether given input alphabet or not?\n",
    "3. to print the student grading system\n",
    "4. to check whether the given number is divisible by 5and 20\n",
    "5. to check whether the given two numbers is equal or not \n",
    "6. \n",
    "\n",
    "\n",
    "\n"
   ]
  },
  {
   "cell_type": "code",
   "execution_count": 2,
   "id": "b6646feb",
   "metadata": {},
   "outputs": [
    {
     "name": "stdout",
     "output_type": "stream",
     "text": [
      "enter a number 12\n",
      "januaray\n"
     ]
    }
   ],
   "source": [
    "int=input('enter a number 1')\n",
    "print('januaray')"
   ]
  },
  {
   "cell_type": "code",
   "execution_count": null,
   "id": "8186f967",
   "metadata": {},
   "outputs": [],
   "source": []
  }
 ],
 "metadata": {
  "kernelspec": {
   "display_name": "Python 3 (ipykernel)",
   "language": "python",
   "name": "python3"
  },
  "language_info": {
   "codemirror_mode": {
    "name": "ipython",
    "version": 3
   },
   "file_extension": ".py",
   "mimetype": "text/x-python",
   "name": "python",
   "nbconvert_exporter": "python",
   "pygments_lexer": "ipython3",
   "version": "3.9.13"
  }
 },
 "nbformat": 4,
 "nbformat_minor": 5
}
