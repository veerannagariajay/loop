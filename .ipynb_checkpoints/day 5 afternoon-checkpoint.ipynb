{
 "cells": [
  {
   "cell_type": "code",
   "execution_count": 1,
   "id": "0117e8d7",
   "metadata": {},
   "outputs": [
    {
     "name": "stdout",
     "output_type": "stream",
     "text": [
      "['__add__', '__class__', '__class_getitem__', '__contains__', '__delattr__', '__dir__', '__doc__', '__eq__', '__format__', '__ge__', '__getattribute__', '__getitem__', '__getnewargs__', '__gt__', '__hash__', '__init__', '__init_subclass__', '__iter__', '__le__', '__len__', '__lt__', '__mul__', '__ne__', '__new__', '__reduce__', '__reduce_ex__', '__repr__', '__rmul__', '__setattr__', '__sizeof__', '__str__', '__subclasshook__', 'count', 'index']\n"
     ]
    }
   ],
   "source": [
    "print(dir(tuple))"
   ]
  },
  {
   "cell_type": "code",
   "execution_count": 2,
   "id": "7d66a583",
   "metadata": {},
   "outputs": [
    {
     "name": "stdout",
     "output_type": "stream",
     "text": [
      "10\n"
     ]
    }
   ],
   "source": [
    "# to acess the values from the tuple\n",
    "t1=(10,20,30)\n",
    "print(t1[0])"
   ]
  },
  {
   "cell_type": "code",
   "execution_count": 8,
   "id": "d05b1570",
   "metadata": {},
   "outputs": [
    {
     "name": "stdout",
     "output_type": "stream",
     "text": [
      "{'name': ['raju, ravi'], 'rollno': [10, 20]}\n"
     ]
    }
   ],
   "source": [
    "# to store the multiple records\n",
    "d1={'name':['raju, ravi'],'rollno':[10,20]}\n",
    "print(d1)    \n",
    "\n",
    "\n",
    "\n"
   ]
  },
  {
   "cell_type": "code",
   "execution_count": 9,
   "id": "cd7c3f4c",
   "metadata": {},
   "outputs": [
    {
     "name": "stdout",
     "output_type": "stream",
     "text": [
      "['__class__', '__class_getitem__', '__contains__', '__delattr__', '__delitem__', '__dir__', '__doc__', '__eq__', '__format__', '__ge__', '__getattribute__', '__getitem__', '__gt__', '__hash__', '__init__', '__init_subclass__', '__ior__', '__iter__', '__le__', '__len__', '__lt__', '__ne__', '__new__', '__or__', '__reduce__', '__reduce_ex__', '__repr__', '__reversed__', '__ror__', '__setattr__', '__setitem__', '__sizeof__', '__str__', '__subclasshook__', 'clear', 'copy', 'fromkeys', 'get', 'items', 'keys', 'pop', 'popitem', 'setdefault', 'update', 'values']\n"
     ]
    }
   ],
   "source": [
    "print(dir(dict))"
   ]
  },
  {
   "cell_type": "code",
   "execution_count": 11,
   "id": "356330c7",
   "metadata": {},
   "outputs": [
    {
     "name": "stdout",
     "output_type": "stream",
     "text": [
      "dict_keys(['name', 'rollno', 'branch'])\n"
     ]
    }
   ],
   "source": [
    "# keys(): to get the keynames from dictionary..\n",
    "d1={'name':'ajju','rollno':454,'branch':'ECE'}\n",
    "print(d1.keys())"
   ]
  },
  {
   "cell_type": "code",
   "execution_count": 1,
   "id": "4cdd432e",
   "metadata": {},
   "outputs": [
    {
     "name": "stdout",
     "output_type": "stream",
     "text": [
      "{'name': 'ajju', 'rollno': 454, 'branch': 'ece'}\n"
     ]
    }
   ],
   "source": [
    "d1={'name':'ajju','rollno':454,'branch':'ECE'}\n",
    "d1.update({'branch':'ece'})\n",
    "print(d1)"
   ]
  },
  {
   "cell_type": "code",
   "execution_count": 2,
   "id": "5f297e2c",
   "metadata": {},
   "outputs": [
    {
     "name": "stdout",
     "output_type": "stream",
     "text": [
      "{'name': 'ajju', 'branch': 'ECE'}\n"
     ]
    }
   ],
   "source": [
    "d1={'name':'ajju','rollno':454,'branch':'ECE'}\n",
    "d1.pop('rollno')\n",
    "print(d1)\n"
   ]
  },
  {
   "cell_type": "code",
   "execution_count": 3,
   "id": "00e18c4a",
   "metadata": {},
   "outputs": [
    {
     "name": "stdout",
     "output_type": "stream",
     "text": [
      "{'name': 'ajju', 'rollno': 454}\n"
     ]
    }
   ],
   "source": [
    "d1={'name':'ajju','rollno':454,'branch':'ECE'}\n",
    "d1.popitem()\n",
    "print(d1)"
   ]
  },
  {
   "cell_type": "code",
   "execution_count": 4,
   "id": "74c5210f",
   "metadata": {},
   "outputs": [
    {
     "name": "stdout",
     "output_type": "stream",
     "text": [
      "{'name': None, 'rollno': None, 'branch': None}\n"
     ]
    }
   ],
   "source": [
    "l1=['name','rollno','branch']\n",
    "d1=dict.fromkeys(l1)\n",
    "print(d1)"
   ]
  },
  {
   "cell_type": "code",
   "execution_count": 9,
   "id": "7c6dbca4",
   "metadata": {},
   "outputs": [
    {
     "name": "stdout",
     "output_type": "stream",
     "text": [
      "{20: 2, 30: 1, 40: 1}\n"
     ]
    }
   ],
   "source": [
    "# dictionary example programms..\n",
    "l1=[20,30,40,20]\n",
    "#output:{10:2,20:2}\n",
    "d3={}\n",
    "for i in l1:\n",
    "       d3[i]=l1.count(i)\n",
    "print(d3)"
   ]
  },
  {
   "cell_type": "code",
   "execution_count": 18,
   "id": "ffab8737",
   "metadata": {},
   "outputs": [
    {
     "ename": "AttributeError",
     "evalue": "'list' object has no attribute 'upper'",
     "output_type": "error",
     "traceback": [
      "\u001b[1;31m---------------------------------------------------------------------------\u001b[0m",
      "\u001b[1;31mAttributeError\u001b[0m                            Traceback (most recent call last)",
      "\u001b[1;32m~\\AppData\\Local\\Temp\\ipykernel_6368\\358610243.py\u001b[0m in \u001b[0;36m<module>\u001b[1;34m\u001b[0m\n\u001b[0;32m      1\u001b[0m \u001b[0ml2\u001b[0m\u001b[1;33m=\u001b[0m\u001b[1;33m[\u001b[0m\u001b[1;34m'ajju'\u001b[0m\u001b[1;33m]\u001b[0m\u001b[1;33m\u001b[0m\u001b[1;33m\u001b[0m\u001b[0m\n\u001b[1;32m----> 2\u001b[1;33m \u001b[0mx\u001b[0m\u001b[1;33m=\u001b[0m\u001b[0ml2\u001b[0m\u001b[1;33m.\u001b[0m\u001b[0mupper\u001b[0m\u001b[1;33m(\u001b[0m\u001b[1;33m)\u001b[0m\u001b[1;33m\u001b[0m\u001b[1;33m\u001b[0m\u001b[0m\n\u001b[0m\u001b[0;32m      3\u001b[0m \u001b[0mprint\u001b[0m\u001b[1;33m(\u001b[0m\u001b[0mx\u001b[0m\u001b[1;33m)\u001b[0m\u001b[1;33m\u001b[0m\u001b[1;33m\u001b[0m\u001b[0m\n\u001b[0;32m      4\u001b[0m \u001b[1;33m\u001b[0m\u001b[0m\n\u001b[0;32m      5\u001b[0m \u001b[1;33m\u001b[0m\u001b[0m\n",
      "\u001b[1;31mAttributeError\u001b[0m: 'list' object has no attribute 'upper'"
     ]
    }
   ],
   "source": [
    "l2=['ajju']\n",
    "x=l2.upper()\n",
    "print(x)\n",
    "\n",
    "\n"
   ]
  },
  {
   "cell_type": "markdown",
   "id": "5a2248a8",
   "metadata": {},
   "source": [
    "tasks\n",
    "list\n",
    "1. to print the second smallest and second largest number from a list?\n",
    "2. to print the sum of all elements from the list?\n",
    "3. to print the even digits from the list?\n",
    "4. to count the odd elements from the list ?\n",
    "5. list product?\n",
    "6. to convert the list characters into string?\n",
    "7. to generate the dictionary in between \n",
    "8. to add new item to dictionary\n",
    "9. L=['ajay','java] to print the length of string?\n",
    "10. to read the string to print the word count...\n",
    "\n"
   ]
  },
  {
   "cell_type": "markdown",
   "id": "8b900d65",
   "metadata": {},
   "source": [
    "sets \n",
    "it is a collection of different data types\n",
    "by using curly brackets we can write the sets\n",
    "set is a unordered and unindexed\n",
    "it is mutable\n",
    "it doesnt allow the duplication of data .\n"
   ]
  },
  {
   "cell_type": "code",
   "execution_count": 1,
   "id": "58d1d945",
   "metadata": {},
   "outputs": [
    {
     "name": "stdout",
     "output_type": "stream",
     "text": [
      "siva\n"
     ]
    }
   ],
   "source": [
    "a=\"siva\"\n",
    "print(a)"
   ]
  },
  {
   "cell_type": "code",
   "execution_count": 2,
   "id": "62a3ed00",
   "metadata": {},
   "outputs": [
    {
     "name": "stdout",
     "output_type": "stream",
     "text": [
      "siva\n"
     ]
    }
   ],
   "source": [
    "print(\"siva\")"
   ]
  },
  {
   "cell_type": "code",
   "execution_count": 3,
   "id": "b8caa334",
   "metadata": {},
   "outputs": [
    {
     "ename": "NameError",
     "evalue": "name 'siva' is not defined",
     "output_type": "error",
     "traceback": [
      "\u001b[1;31m---------------------------------------------------------------------------\u001b[0m",
      "\u001b[1;31mNameError\u001b[0m                                 Traceback (most recent call last)",
      "\u001b[1;32m~\\AppData\\Local\\Temp\\ipykernel_23416\\2260524451.py\u001b[0m in \u001b[0;36m<module>\u001b[1;34m\u001b[0m\n\u001b[1;32m----> 1\u001b[1;33m \u001b[0mprint\u001b[0m\u001b[1;33m(\u001b[0m\u001b[0msiva\u001b[0m\u001b[1;33m)\u001b[0m\u001b[1;33m\u001b[0m\u001b[1;33m\u001b[0m\u001b[0m\n\u001b[0m",
      "\u001b[1;31mNameError\u001b[0m: name 'siva' is not defined"
     ]
    }
   ],
   "source": [
    "print(siva)"
   ]
  },
  {
   "cell_type": "code",
   "execution_count": 4,
   "id": "b129c0ab",
   "metadata": {},
   "outputs": [],
   "source": [
    "# sunhjnks"
   ]
  },
  {
   "cell_type": "code",
   "execution_count": 5,
   "id": "0ebe5899",
   "metadata": {},
   "outputs": [
    {
     "data": {
      "text/plain": [
       "'dkskdvkldsm\\njkfvkdfsm\\n'"
      ]
     },
     "execution_count": 5,
     "metadata": {},
     "output_type": "execute_result"
    }
   ],
   "source": [
    "'''dkskdvkldsm\n",
    "jkfvkdfsm\n",
    "'''"
   ]
  },
  {
   "cell_type": "code",
   "execution_count": 6,
   "id": "850cc10f",
   "metadata": {},
   "outputs": [
    {
     "ename": "SyntaxError",
     "evalue": "invalid syntax (2775852426.py, line 1)",
     "output_type": "error",
     "traceback": [
      "\u001b[1;36m  File \u001b[1;32m\"C:\\Users\\veera\\AppData\\Local\\Temp\\ipykernel_23416\\2775852426.py\"\u001b[1;36m, line \u001b[1;32m1\u001b[0m\n\u001b[1;33m    ......................................................................................................................\u001b[0m\n\u001b[1;37m       ^\u001b[0m\n\u001b[1;31mSyntaxError\u001b[0m\u001b[1;31m:\u001b[0m invalid syntax\n"
     ]
    }
   ],
   "source": [
    "......................................................................................................................"
   ]
  },
  {
   "cell_type": "code",
   "execution_count": 7,
   "id": "ec7bcc2f",
   "metadata": {},
   "outputs": [
    {
     "name": "stdout",
     "output_type": "stream",
     "text": [
      "ram\n"
     ]
    }
   ],
   "source": [
    "print(\"ram\")"
   ]
  },
  {
   "cell_type": "code",
   "execution_count": 8,
   "id": "40430d63",
   "metadata": {},
   "outputs": [
    {
     "name": "stdout",
     "output_type": "stream",
     "text": [
      "ram\n"
     ]
    }
   ],
   "source": [
    "print('ram')"
   ]
  },
  {
   "cell_type": "code",
   "execution_count": null,
   "id": "ca1897cf",
   "metadata": {},
   "outputs": [],
   "source": []
  },
  {
   "cell_type": "code",
   "execution_count": 9,
   "id": "30e4bc94",
   "metadata": {},
   "outputs": [
    {
     "ename": "SyntaxError",
     "evalue": "invalid syntax (2923810901.py, line 2)",
     "output_type": "error",
     "traceback": [
      "\u001b[1;36m  File \u001b[1;32m\"C:\\Users\\veera\\AppData\\Local\\Temp\\ipykernel_23416\\2923810901.py\"\u001b[1;36m, line \u001b[1;32m2\u001b[0m\n\u001b[1;33m    print(upper case(a))\u001b[0m\n\u001b[1;37m                ^\u001b[0m\n\u001b[1;31mSyntaxError\u001b[0m\u001b[1;31m:\u001b[0m invalid syntax\n"
     ]
    }
   ],
   "source": [
    "a= \"python is easy codes\"\n",
    "print(upper case(a))\n"
   ]
  },
  {
   "cell_type": "code",
   "execution_count": null,
   "id": "8d3a1250",
   "metadata": {},
   "outputs": [],
   "source": [
    "a=\"python have a easy code\"\n",
    "upper"
   ]
  }
 ],
 "metadata": {
  "kernelspec": {
   "display_name": "Python 3 (ipykernel)",
   "language": "python",
   "name": "python3"
  },
  "language_info": {
   "codemirror_mode": {
    "name": "ipython",
    "version": 3
   },
   "file_extension": ".py",
   "mimetype": "text/x-python",
   "name": "python",
   "nbconvert_exporter": "python",
   "pygments_lexer": "ipython3",
   "version": "3.9.13"
  }
 },
 "nbformat": 4,
 "nbformat_minor": 5
}
